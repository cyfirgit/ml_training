{
 "cells": [
  {
   "cell_type": "markdown",
   "metadata": {
    "colab_type": "text",
    "id": "bOChJSNXtC9g"
   },
   "source": [
    "# Introduction to Python"
   ]
  },
  {
   "cell_type": "markdown",
   "metadata": {
    "colab_type": "text",
    "id": "OLIxEDq6VhvZ"
   },
   "source": [
    "In this lesson we will learn the basics of the Python programming language (version 3). We won't learn everything about Python but enough to do some basic machine learning.\n",
    "\n",
    "<img src=\"figures/python.png\" width=350>\n",
    "\n",
    "\n"
   ]
  },
  {
   "cell_type": "markdown",
   "metadata": {
    "colab_type": "text",
    "id": "VoMq0eFRvugb"
   },
   "source": [
    "#  Variables"
   ]
  },
  {
   "cell_type": "markdown",
   "metadata": {
    "colab_type": "text",
    "id": "qWro5T5qTJJL"
   },
   "source": [
    "Variables are objects in Python that can hold anything with numbers or text. Let's look at how to create some variables."
   ]
  },
  {
   "cell_type": "code",
   "execution_count": 3,
   "metadata": {
    "colab": {
     "base_uri": "https://localhost:8080/",
     "height": 34
    },
    "colab_type": "code",
    "id": "0-dXQiLlTIgz",
    "outputId": "38d1f8a5-b067-416b-b042-38a373624a8b"
   },
   "outputs": [
    {
     "name": "stdout",
     "output_type": "stream",
     "text": [
      "55\n"
     ]
    }
   ],
   "source": [
    "# Numerical example\n",
    "x = 55\n",
    "print (x)\n",
    "\n",
    "# Changed 5 to 55"
   ]
  },
  {
   "cell_type": "code",
   "execution_count": 4,
   "metadata": {
    "colab": {
     "base_uri": "https://localhost:8080/",
     "height": 34
    },
    "colab_type": "code",
    "id": "5Ym0owFxTkjo",
    "outputId": "72c2781a-4435-4c21-b15a-4c070d47bd86"
   },
   "outputs": [
    {
     "name": "stdout",
     "output_type": "stream",
     "text": [
      "hello and stuff\n"
     ]
    }
   ],
   "source": [
    "# Text example\n",
    "x = 'hello and stuff'\n",
    "print (x)\n",
    "\n",
    "# Changed \"hello\" to 'hello and stuff'"
   ]
  },
  {
   "cell_type": "code",
   "execution_count": 5,
   "metadata": {
    "colab": {
     "base_uri": "https://localhost:8080/",
     "height": 34
    },
    "colab_type": "code",
    "id": "1a4ZhMV1T1-0",
    "outputId": "0817e041-5f79-46d8-84cc-ee4aaea0eba2"
   },
   "outputs": [
    {
     "name": "stdout",
     "output_type": "stream",
     "text": [
      "2\n"
     ]
    }
   ],
   "source": [
    "# Variables can be used with each other\n",
    "a = 1\n",
    "b = 2\n",
    "c = a * b\n",
    "print (c)\n",
    "\n",
    "# Changed a + b to a * b"
   ]
  },
  {
   "cell_type": "markdown",
   "metadata": {
    "colab_type": "text",
    "id": "nbKV4aTdUC1_"
   },
   "source": [
    "Variables can come in lots of different types. Even within numerical variables, you can have integers (int), floats (float), etc. All text based variables are of type string (str). We can see what type a variable is by printing its type."
   ]
  },
  {
   "cell_type": "code",
   "execution_count": 6,
   "metadata": {
    "colab": {
     "base_uri": "https://localhost:8080/",
     "height": 153
    },
    "colab_type": "code",
    "id": "c3NJmfO4Uc6V",
    "outputId": "04b91fa4-51af-48f4-e9ac-591b5bf3e714",
    "scrolled": true
   },
   "outputs": [
    {
     "name": "stdout",
     "output_type": "stream",
     "text": [
      "5\n",
      "<class 'int'>\n",
      "5.0\n",
      "<class 'float'>\n",
      "5\n",
      "<class 'str'>\n",
      "True\n",
      "<class 'bool'>\n",
      "-27.0\n"
     ]
    }
   ],
   "source": [
    "# int variable\n",
    "x = 5\n",
    "print (x)\n",
    "print (type(x))\n",
    "\n",
    "# float variable\n",
    "y = 5.0\n",
    "print (y)\n",
    "print (type(y))\n",
    "\n",
    "# text variable\n",
    "z = \"5\" \n",
    "print (z)\n",
    "print (type(z))\n",
    "\n",
    "# boolean variable\n",
    "aa = True\n",
    "print (aa)\n",
    "print (type(aa))\n",
    "\n",
    "print(aa + x * y - ord(z))\n",
    "\n",
    "## separated the variables into separate namespaces and then combined them into a single operation"
   ]
  },
  {
   "cell_type": "markdown",
   "metadata": {
    "colab_type": "text",
    "id": "6HPtavfdU8Ut"
   },
   "source": [
    "It's good practice to know what types your variables are. When you want to use numerical operations on them, they need to be compatible. "
   ]
  },
  {
   "cell_type": "code",
   "execution_count": 9,
   "metadata": {
    "colab": {
     "base_uri": "https://localhost:8080/",
     "height": 51
    },
    "colab_type": "code",
    "id": "8pr1-i7IVD-h",
    "outputId": "c2bce48d-b69f-4aab-95c1-9e588f67a6c3"
   },
   "outputs": [
    {
     "name": "stdout",
     "output_type": "stream",
     "text": [
      "8\n",
      "8\n"
     ]
    }
   ],
   "source": [
    "# int variables\n",
    "a = 5\n",
    "b = 3\n",
    "print (a + b)\n",
    "\n",
    "# string variables\n",
    "a = \"5\"\n",
    "b = \"3\"\n",
    "print(int(a) + int(b))\n",
    "\n",
    "#changed the string concat to cast the strings to integers and sum them"
   ]
  },
  {
   "cell_type": "markdown",
   "metadata": {
    "colab_type": "text",
    "id": "q4R_UF6PVw4V"
   },
   "source": [
    "#  Lists"
   ]
  },
  {
   "cell_type": "markdown",
   "metadata": {
    "colab_type": "text",
    "id": "LvGsQBj4VjMl"
   },
   "source": [
    "Lists are objects in Python that can hold a ordered sequence of numbers **and** text."
   ]
  },
  {
   "cell_type": "code",
   "execution_count": 22,
   "metadata": {
    "colab": {
     "base_uri": "https://localhost:8080/",
     "height": 34
    },
    "colab_type": "code",
    "id": "9iPESkq9VvlX",
    "outputId": "67dfbe9f-d4cb-4a62-a812-7c5c8a01c2fa"
   },
   "outputs": [
    {
     "name": "stdout",
     "output_type": "stream",
     "text": [
      "[1, 'hello', 3]\n"
     ]
    }
   ],
   "source": [
    "# Creating a list\n",
    "list_x = [3, \"hello\", 1]\n",
    "print (list_x[::-1])\n",
    "\n",
    "#reversed the list in the print command"
   ]
  },
  {
   "cell_type": "markdown",
   "metadata": {
    "colab_type": "text",
    "id": "0xC6WvuwbGDg"
   },
   "source": []
  },
  {
   "cell_type": "code",
   "execution_count": 23,
   "metadata": {
    "colab": {
     "base_uri": "https://localhost:8080/",
     "height": 34
    },
    "colab_type": "code",
    "id": "7lbajc-zV515",
    "outputId": "4345bbe0-0f0c-4f84-bcf2-a76130899f34"
   },
   "outputs": [
    {
     "name": "stdout",
     "output_type": "stream",
     "text": [
      "[3, 'hello', 1, 7]\n"
     ]
    }
   ],
   "source": [
    "# Adding to a list\n",
    "list_x.insert(3, 7)\n",
    "print (list_x)\n",
    "\n",
    "#changed the append to an insert at the index[3]."
   ]
  },
  {
   "cell_type": "code",
   "execution_count": 25,
   "metadata": {
    "colab": {
     "base_uri": "https://localhost:8080/",
     "height": 102
    },
    "colab_type": "code",
    "id": "W0xpIryJWCN9",
    "outputId": "a7676615-aff1-402f-d41f-81d004728f94"
   },
   "outputs": [
    {
     "name": "stdout",
     "output_type": "stream",
     "text": [
      "list_x[0]:  3\n",
      "list_x[1]:  hello\n",
      "list_x[2]:  1\n",
      "list_x[-1]:  7\n",
      "list_x[-2]:  1\n",
      "list_x[list_x[0]]: 7\n"
     ]
    }
   ],
   "source": [
    "# Accessing items at specific location in a list\n",
    "print (\"list_x[0]: \", list_x[0])\n",
    "print (\"list_x[1]: \", list_x[1])\n",
    "print (\"list_x[2]: \", list_x[2])\n",
    "print (\"list_x[-1]: \", list_x[-1]) # the last item\n",
    "print (\"list_x[-2]: \", list_x[-2]) # the second to last item\n",
    "print (\"list_x[list_x[0]]:\", list_x[list_x[0]])\n",
    "\n",
    "# added a list reference using a list reference as the index"
   ]
  },
  {
   "cell_type": "code",
   "execution_count": 32,
   "metadata": {
    "colab": {
     "base_uri": "https://localhost:8080/",
     "height": 85
    },
    "colab_type": "code",
    "id": "VSu_HNrnc1WK",
    "outputId": "3c40cce2-9599-41aa-b01c-7c6f39329212"
   },
   "outputs": [
    {
     "name": "stdout",
     "output_type": "stream",
     "text": [
      "list_x[:]:  [3, 'hello', 1, 7]\n",
      "list_x[2:]:  [1, 7]\n",
      "list_x[1:3]:  ['hello', 1]\n",
      "list_x[:-1]:  [3, 'hello', 1]\n",
      "list_x[3:0:-2]: [7, 'hello']\n"
     ]
    }
   ],
   "source": [
    "# Slicing\n",
    "print (\"list_x[:]: \", list_x[:])\n",
    "print (\"list_x[2:]: \", list_x[2:])\n",
    "print (\"list_x[1:3]: \", list_x[1:3])\n",
    "print (\"list_x[:-1]: \", list_x[:-1])\n",
    "\n",
    "print(\"list_x[3:0:-2]:\", list_x[3:0:-2])\n",
    "#added a reverse 2-step slice from 3:0"
   ]
  },
  {
   "cell_type": "code",
   "execution_count": 33,
   "metadata": {
    "colab": {
     "base_uri": "https://localhost:8080/",
     "height": 34
    },
    "colab_type": "code",
    "id": "dImY-hVzWxB4",
    "outputId": "8394f232-aa11-4dbd-8580-70adb5adc807"
   },
   "outputs": [
    {
     "data": {
      "text/plain": [
       "8"
      ]
     },
     "execution_count": 33,
     "metadata": {},
     "output_type": "execute_result"
    }
   ],
   "source": [
    "# Length of a list\n",
    "len(list_x) * 2\n",
    "\n",
    "#returned double the length of the list"
   ]
  },
  {
   "cell_type": "code",
   "execution_count": 34,
   "metadata": {
    "colab": {
     "base_uri": "https://localhost:8080/",
     "height": 34
    },
    "colab_type": "code",
    "id": "3-reXDniW_sm",
    "outputId": "382d1a40-ad1a-49f7-f70f-2c2a02ffd88d"
   },
   "outputs": [
    {
     "name": "stdout",
     "output_type": "stream",
     "text": [
      "[3, 'hi', 'cake', 7]\n"
     ]
    }
   ],
   "source": [
    "# Replacing items in a list\n",
    "list_x[1] = \"hi\"\n",
    "list_x[2] = \"cake\"\n",
    "print (list_x)\n",
    "\n",
    "#replaced [2] with \"cake\""
   ]
  },
  {
   "cell_type": "code",
   "execution_count": 36,
   "metadata": {
    "colab": {
     "base_uri": "https://localhost:8080/",
     "height": 34
    },
    "colab_type": "code",
    "id": "X8T5I3bjXJ0S",
    "outputId": "1ede1c5c-c6ea-452f-b13d-ff9efd3d53b0"
   },
   "outputs": [
    {
     "name": "stdout",
     "output_type": "stream",
     "text": [
      "[2.4, 'world', 3, 'hi', 'cake', 7]\n"
     ]
    }
   ],
   "source": [
    "# Combining lists\n",
    "list_y = [2.4, \"world\"]\n",
    "list_z = list_y + list_x\n",
    "print (list_z)\n",
    "\n",
    "# reversed the order of the list concat"
   ]
  },
  {
   "cell_type": "markdown",
   "metadata": {
    "colab_type": "text",
    "id": "ddpIO6LLVzh0"
   },
   "source": [
    "# Tuples"
   ]
  },
  {
   "cell_type": "markdown",
   "metadata": {
    "colab_type": "text",
    "id": "CAZblq7oXY3s"
   },
   "source": [
    "Tuples are also objects in Python that can hold data but you cannot replace their values (for this reason, tuples are called immutable, whereas lists are known as mutable)."
   ]
  },
  {
   "cell_type": "code",
   "execution_count": 55,
   "metadata": {
    "colab": {
     "base_uri": "https://localhost:8080/",
     "height": 34
    },
    "colab_type": "code",
    "id": "G95lu8xWXY90",
    "outputId": "c23250e5-534a-48e6-ed52-f034859f73c2"
   },
   "outputs": [
    {
     "name": "stdout",
     "output_type": "stream",
     "text": [
      "(3.0, 'hello', 2.4)\n"
     ]
    }
   ],
   "source": [
    "# Creating a tuple\n",
    "tuple_x = (3.0, \"hello\", list_z[0])\n",
    "print (tuple_x)\n",
    "\n",
    "#added a value from list_z to the tuple"
   ]
  },
  {
   "cell_type": "code",
   "execution_count": 56,
   "metadata": {
    "colab": {
     "base_uri": "https://localhost:8080/",
     "height": 34
    },
    "colab_type": "code",
    "id": "kq23Bej1acAP",
    "outputId": "34edfbff-dbc0-4385-a118-7f1bcc49e84f"
   },
   "outputs": [
    {
     "name": "stdout",
     "output_type": "stream",
     "text": [
      "(3.0, 'hello', 2.4, 2.4)\n"
     ]
    }
   ],
   "source": [
    "# Adding values to a tuple\n",
    "tuple_x = tuple_x + (tuple_x[-1],)\n",
    "print (tuple_x)\n",
    "\n",
    "#repeated the last item in the tuple"
   ]
  },
  {
   "cell_type": "code",
   "execution_count": 57,
   "metadata": {
    "colab": {
     "base_uri": "https://localhost:8080/",
     "height": 164
    },
    "colab_type": "code",
    "id": "vyTmOc6BXkge",
    "outputId": "dadeac9a-4bb4-43a3-ff40-e8ca6a05ba2c"
   },
   "outputs": [
    {
     "name": "stdout",
     "output_type": "stream",
     "text": [
      "(3.0, 'world', 2.4, 2.4)\n"
     ]
    }
   ],
   "source": [
    "# Trying to change a tuples value (you can't, this should produce an error.)\n",
    "tuple_x = (tuple_x[0],) + ('world',) + tuple_x[2:]\n",
    "\n",
    "print(tuple_x)\n",
    "#made the reassignment work in a hacky way that emphasizes why you don't use an immutable to store mutable variables."
   ]
  },
  {
   "cell_type": "markdown",
   "metadata": {
    "colab_type": "text",
    "id": "UdlJHkwZV3Mz"
   },
   "source": [
    "# Dictionaries"
   ]
  },
  {
   "cell_type": "markdown",
   "metadata": {
    "colab_type": "text",
    "id": "azp3AoxYXS26"
   },
   "source": [
    "Dictionaries are Python objects that hold key-value pairs. In the example dictionary below, the keys are the \"name\" and \"eye_color\" variables. They each have a value associated with them. A dictionary cannot have two of the same keys. "
   ]
  },
  {
   "cell_type": "code",
   "execution_count": 60,
   "metadata": {
    "colab": {
     "base_uri": "https://localhost:8080/",
     "height": 68
    },
    "colab_type": "code",
    "id": "pXhNLbzpXXSk",
    "outputId": "e4bb80e5-4e7b-4cbb-daa6-77490ab25145"
   },
   "outputs": [
    {
     "name": "stdout",
     "output_type": "stream",
     "text": [
      "{'name': 'dog', 'eye_color': 'brown'}\n",
      "dog\n",
      "brown\n",
      "dict_keys(['name', 'eye_color'])\n"
     ]
    }
   ],
   "source": [
    "# Creating a dictionary\n",
    "dog = {\"name\": \"dog\",\n",
    "        \"eye_color\": \"brown\"}\n",
    "print (dog)\n",
    "print (dog[\"name\"])\n",
    "print (dog[\"eye_color\"])\n",
    "print(dog.keys())\n",
    "\n",
    "#added a print of the keys for the dict"
   ]
  },
  {
   "cell_type": "code",
   "execution_count": 61,
   "metadata": {
    "colab": {
     "base_uri": "https://localhost:8080/",
     "height": 34
    },
    "colab_type": "code",
    "id": "1HXtX8vQYjXa",
    "outputId": "ad8d1a0f-d134-4c87-99c1-0f77140f2de0"
   },
   "outputs": [
    {
     "name": "stdout",
     "output_type": "stream",
     "text": [
      "{'name': 'dog', 'eye_color': 'silver'}\n"
     ]
    }
   ],
   "source": [
    "# Changing the value for a key\n",
    "dog[\"eye_color\"] = \"silver\"\n",
    "print (dog)\n",
    "\n",
    "#changed the color string"
   ]
  },
  {
   "cell_type": "code",
   "execution_count": 62,
   "metadata": {
    "colab": {
     "base_uri": "https://localhost:8080/",
     "height": 34
    },
    "colab_type": "code",
    "id": "qn33iB0MY5dT",
    "outputId": "bd89033e-e307-4739-8c1d-f957c32385b5"
   },
   "outputs": [
    {
     "name": "stdout",
     "output_type": "stream",
     "text": [
      "{'name': 'dog', 'eye_color': 'silver', 'age': 5, 'breed': 'pug'}\n"
     ]
    }
   ],
   "source": [
    "# Adding new key-value pairs\n",
    "dog[\"age\"] = 5\n",
    "dog[\"breed\"] = 'pug'\n",
    "print (dog)\n",
    "\n",
    "#added a breed key-value pair"
   ]
  },
  {
   "cell_type": "code",
   "execution_count": 67,
   "metadata": {
    "colab": {
     "base_uri": "https://localhost:8080/",
     "height": 34
    },
    "colab_type": "code",
    "id": "g9EYmzMKa9YV",
    "outputId": "4b9218b9-2f4d-4287-932a-caba430713aa"
   },
   "outputs": [
    {
     "name": "stdout",
     "output_type": "stream",
     "text": [
      "4\n",
      "{'name': 'dog', 'eye_color': 'silver', 'age': 5, 'breed': 'pug'}\n"
     ]
    }
   ],
   "source": [
    "# Length of a dictionary\n",
    "print (len(dog))\n",
    "print(dog)\n",
    "\n",
    "#added a reprint of the dog dict"
   ]
  },
  {
   "cell_type": "markdown",
   "metadata": {
    "colab_type": "text",
    "id": "B-DInx_Xo2vJ"
   },
   "source": [
    "# If statements"
   ]
  },
  {
   "cell_type": "markdown",
   "metadata": {
    "colab_type": "text",
    "id": "ZG_ICGRGo4tY"
   },
   "source": [
    "You can use `if` statements to conditionally do something."
   ]
  },
  {
   "cell_type": "code",
   "execution_count": 68,
   "metadata": {
    "colab": {
     "base_uri": "https://localhost:8080/",
     "height": 34
    },
    "colab_type": "code",
    "id": "uob9lQuKo4Pg",
    "outputId": "21d40476-ea6a-4149-f744-0119d0894d77"
   },
   "outputs": [
    {
     "name": "stdout",
     "output_type": "stream",
     "text": [
      "high\n"
     ]
    }
   ],
   "source": [
    "# If statement\n",
    "x = 4 + 1\n",
    "if x < 1:\n",
    "    score = \"low\"\n",
    "elif x <= 4:\n",
    "    score = \"medium\"\n",
    "else:\n",
    "    score = \"high\"\n",
    "print (score)\n",
    "\n",
    "#got a better score (added 1 to score during assignment to change the outcome of the conditional)"
   ]
  },
  {
   "cell_type": "code",
   "execution_count": 69,
   "metadata": {
    "colab": {
     "base_uri": "https://localhost:8080/",
     "height": 34
    },
    "colab_type": "code",
    "id": "vwsQaZqIpfJ3",
    "outputId": "1f190875-b910-4e54-a58a-d4230b7c8169"
   },
   "outputs": [
    {
     "name": "stdout",
     "output_type": "stream",
     "text": [
      "well crap\n"
     ]
    }
   ],
   "source": [
    "# If statment with a boolean\n",
    "x = True\n",
    "if not x:\n",
    "    print (\"it worked\")\n",
    "else:\n",
    "    print('well crap')\n",
    "    \n",
    "#changed the statement to trigger on an else condition"
   ]
  },
  {
   "cell_type": "markdown",
   "metadata": {
    "colab_type": "text",
    "id": "sJ7NPGEKV6Ik"
   },
   "source": [
    "# Loops"
   ]
  },
  {
   "cell_type": "markdown",
   "metadata": {
    "colab_type": "text",
    "id": "YRVxhVCkn0vc"
   },
   "source": [
    "In Python, you can use `for` loop to iterate over the elements of a sequence such as a list or tuple, or use `while` loop to do something repeatedly as long as a condition holds."
   ]
  },
  {
   "cell_type": "code",
   "execution_count": 70,
   "metadata": {
    "colab": {
     "base_uri": "https://localhost:8080/",
     "height": 68
    },
    "colab_type": "code",
    "id": "OB5PtyqAn8mj",
    "outputId": "b4595670-99d4-473e-b299-bf8cf47f1d81"
   },
   "outputs": [
    {
     "name": "stdout",
     "output_type": "stream",
     "text": [
      "i=0, x=2\n",
      "i=1, x=3\n",
      "i=2, x=4\n",
      "i=3, x=5\n",
      "i=4, x=6\n"
     ]
    }
   ],
   "source": [
    "# For loop\n",
    "x = 1\n",
    "for i in range(5): # goes from i=0 to i=2\n",
    "    x += 1 # same as x = x + 1\n",
    "    print (\"i={0}, x={1}\".format(i, x)) # printing with multiple variables\n",
    "    \n",
    "#added 2 more steps"
   ]
  },
  {
   "cell_type": "code",
   "execution_count": 77,
   "metadata": {
    "colab": {
     "base_uri": "https://localhost:8080/",
     "height": 68
    },
    "colab_type": "code",
    "id": "6XyhCrFeoGj4",
    "outputId": "2427ae1f-85f7-4888-f47f-8de1992a84c3"
   },
   "outputs": [
    {
     "name": "stdout",
     "output_type": "stream",
     "text": [
      "i=0, x=3\n",
      "i=1, x=5\n",
      "i=2, x=7\n"
     ]
    }
   ],
   "source": [
    "# Loop through items in a list\n",
    "x = 1\n",
    "for i in [0, 1, 2]:\n",
    "    x += 2\n",
    "    print (\"i={0}, x={1}\".format(i, x))\n",
    "    \n",
    "# changed the += 1 to += 2"
   ]
  },
  {
   "cell_type": "code",
   "execution_count": 78,
   "metadata": {
    "colab": {
     "base_uri": "https://localhost:8080/",
     "height": 68
    },
    "colab_type": "code",
    "id": "5Tf2x4okp3fH",
    "outputId": "1ac41665-2f35-4c7d-e9f5-22614d3ba35c"
   },
   "outputs": [
    {
     "name": "stdout",
     "output_type": "stream",
     "text": [
      "9\n",
      "8\n",
      "7\n",
      "6\n",
      "5\n",
      "4\n",
      "3\n",
      "2\n",
      "1\n",
      "0\n"
     ]
    }
   ],
   "source": [
    "# While loop\n",
    "x = 10\n",
    "while x > 0:\n",
    "    x -= 1 # same as x = x - 1\n",
    "    print (x)\n",
    "    \n",
    "# Made the loop go a little longer."
   ]
  },
  {
   "cell_type": "markdown",
   "metadata": {
    "colab_type": "text",
    "id": "gJw-EDO9WBL_"
   },
   "source": [
    "# Functions"
   ]
  },
  {
   "cell_type": "markdown",
   "metadata": {
    "colab_type": "text",
    "id": "hDIOUdWCqBwa"
   },
   "source": [
    "Functions are a way to modularize reusable pieces of code. "
   ]
  },
  {
   "cell_type": "code",
   "execution_count": 80,
   "metadata": {
    "colab": {
     "base_uri": "https://localhost:8080/",
     "height": 34
    },
    "colab_type": "code",
    "id": "iin1ZXmMqA0y",
    "outputId": "3bfae4a7-482b-4d43-8350-f8bb5e8a35ac"
   },
   "outputs": [
    {
     "name": "stdout",
     "output_type": "stream",
     "text": [
      "2\n"
     ]
    }
   ],
   "source": [
    "# Create a function\n",
    "def add_two(x):\n",
    "    x += 2\n",
    "    return x\n",
    "\n",
    "# Use the function\n",
    "score = 0\n",
    "score = add_two(score)\n",
    "print (score)\n",
    "\n",
    "#removed the superfluous variable assignment in the function call"
   ]
  },
  {
   "cell_type": "code",
   "execution_count": 81,
   "metadata": {
    "colab": {
     "base_uri": "https://localhost:8080/",
     "height": 34
    },
    "colab_type": "code",
    "id": "DC6x3DMrqlE3",
    "outputId": "8965bfab-3e20-41ae-9fc1-f22a7d4f3333"
   },
   "outputs": [
    {
     "name": "stdout",
     "output_type": "stream",
     "text": [
      "John Doe\n"
     ]
    }
   ],
   "source": [
    "# Function with multiple inputs\n",
    "def join_name(first_name, last_name):\n",
    "    joined_name = first_name + \" \" + last_name\n",
    "    return joined_name\n",
    "\n",
    "# Use the function\n",
    "first_name = \"John\"\n",
    "last_name = \"Doe\"\n",
    "joined_name = join_name( last_name=last_name, first_name=first_name)\n",
    "print (joined_name)\n",
    "\n",
    "#made the variable assignment statements in the function call useful by mixing up the order of variables in the call."
   ]
  },
  {
   "cell_type": "markdown",
   "metadata": {
    "colab_type": "text",
    "id": "lBLa1n54WEd2"
   },
   "source": [
    "# Classes"
   ]
  },
  {
   "cell_type": "markdown",
   "metadata": {
    "colab_type": "text",
    "id": "mGua8QnArAZh"
   },
   "source": [
    "Classes are a fundamental piece of object oriented programming in Python."
   ]
  },
  {
   "cell_type": "code",
   "execution_count": 84,
   "metadata": {
    "colab": {},
    "colab_type": "code",
    "id": "DXmPwI1frAAd"
   },
   "outputs": [],
   "source": [
    "# Creating the class\n",
    "class Pets(object):\n",
    "  \n",
    "    # Initialize the class\n",
    "    def __init__(self, species, color, name):\n",
    "        self.species = species\n",
    "        self.color = color\n",
    "        self.name = name\n",
    "\n",
    "    # For printing  \n",
    "    def __str__(self):\n",
    "        return \"{0} {1} named {2}!\".format(self.color.upper(), self.species, self.name)\n",
    "\n",
    "    # Example function\n",
    "    def change_name(self, new_name):\n",
    "        self.name = new_name\n",
    "        \n",
    "# put the color in all caps in the printout and replaced the . with !"
   ]
  },
  {
   "cell_type": "code",
   "execution_count": 86,
   "metadata": {
    "colab": {
     "base_uri": "https://localhost:8080/",
     "height": 51
    },
    "colab_type": "code",
    "id": "ezQq_Fhhrqrv",
    "outputId": "bf159745-99b1-4e33-af4d-f63924a1fe74"
   },
   "outputs": [
    {
     "name": "stdout",
     "output_type": "stream",
     "text": [
      "PURPLE dog named Rover!\n",
      "Rover\n"
     ]
    }
   ],
   "source": [
    "# Creating an instance of a class\n",
    "my_dog = Pets(species=\"dog\", color=\"purple\", name=\"Rover\",)\n",
    "print (my_dog)\n",
    "print (my_dog.name)\n",
    "\n",
    "#made Rover purple."
   ]
  },
  {
   "cell_type": "code",
   "execution_count": 87,
   "metadata": {
    "colab": {
     "base_uri": "https://localhost:8080/",
     "height": 51
    },
    "colab_type": "code",
    "id": "qTinlRj1szc5",
    "outputId": "80939a31-0242-4465-95ff-da0e5caaa67c"
   },
   "outputs": [
    {
     "name": "stdout",
     "output_type": "stream",
     "text": [
      "PURPLE dog named ROVER!\n",
      "ROVER\n"
     ]
    }
   ],
   "source": [
    "# Using a class's function\n",
    "my_dog.change_name(my_dog.name.upper())\n",
    "print (my_dog)\n",
    "print (my_dog.name)\n",
    "\n",
    "# kept the name Rover, but all caps"
   ]
  },
  {
   "cell_type": "markdown",
   "metadata": {
    "colab_type": "text",
    "id": "kiWtd0aJtNtY"
   },
   "source": [
    "# Additional resources"
   ]
  },
  {
   "cell_type": "markdown",
   "metadata": {
    "colab_type": "text",
    "id": "cfLF4ktmtSC3"
   },
   "source": [
    "This was a very quick look at Python and we'll be learning more in future lessons. If you want to learn more right now before diving into machine learning, check out this free course: [Free Python Course](https://www.codecademy.com/learn/learn-python)"
   ]
  }
 ],
 "metadata": {
  "colab": {
   "collapsed_sections": [],
   "name": "01_Python",
   "provenance": [],
   "toc_visible": true,
   "version": "0.3.2"
  },
  "kernelspec": {
   "display_name": "Python 3",
   "language": "python",
   "name": "python3"
  },
  "language_info": {
   "codemirror_mode": {
    "name": "ipython",
    "version": 3
   },
   "file_extension": ".py",
   "mimetype": "text/x-python",
   "name": "python",
   "nbconvert_exporter": "python",
   "pygments_lexer": "ipython3",
   "version": "3.8.3"
  }
 },
 "nbformat": 4,
 "nbformat_minor": 4
}
